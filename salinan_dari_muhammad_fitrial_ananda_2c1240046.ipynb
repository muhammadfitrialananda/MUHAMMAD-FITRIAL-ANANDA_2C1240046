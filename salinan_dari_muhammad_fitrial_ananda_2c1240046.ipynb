{
  "nbformat": 4,
  "nbformat_minor": 0,
  "metadata": {
    "colab": {
      "provenance": [],
      "authorship_tag": "ABX9TyP1XT7AopDhMav55fN1k3ph",
      "include_colab_link": true
    },
    "kernelspec": {
      "name": "python3",
      "display_name": "Python 3"
    },
    "language_info": {
      "name": "python"
    }
  },
  "cells": [
    {
      "cell_type": "markdown",
      "metadata": {
        "id": "view-in-github",
        "colab_type": "text"
      },
      "source": [
        "<a href=\"https://colab.research.google.com/github/muhammadfitrialananda/MUHAMMAD-FITRIAL-ANANDA_2C1240046/blob/main/salinan_dari_muhammad_fitrial_ananda_2c1240046.ipynb\" target=\"_parent\"><img src=\"https://colab.research.google.com/assets/colab-badge.svg\" alt=\"Open In Colab\"/></a>"
      ]
    },
    {
      "cell_type": "code",
      "source": [
        "# Minta pengguna untuk memasukkan sebuah bilangan\n",
        "bilangan = int(input(\"Masukkan sebuah bilangan: \"))\n",
        "\n",
        "# Cek apakah bilangan tersebut habis dibagi 3\n",
        "if bilangan % 3 == 0:\n",
        "    print(f\"Bilangan {bilangan} habis dibagi 3.\")\n",
        "else:\n",
        "    print(f\"Bilangan {bilangan} tidak habis dibagi 3.\")"
      ],
      "metadata": {
        "colab": {
          "base_uri": "https://localhost:8080/"
        },
        "id": "Gql8mwEj1zzI",
        "outputId": "2db2315c-24a1-42d6-c7cb-7ec3ddf4185f"
      },
      "execution_count": null,
      "outputs": [
        {
          "output_type": "stream",
          "name": "stdout",
          "text": [
            "Masukkan sebuah bilangan: 3\n",
            "Bilangan 3 habis dibagi 3.\n"
          ]
        }
      ]
    },
    {
      "cell_type": "code",
      "execution_count": null,
      "metadata": {
        "colab": {
          "base_uri": "https://localhost:8080/"
        },
        "id": "rJfAH77vv2Tz",
        "outputId": "28bbe71e-ceee-4a75-8e42-317c96394903"
      },
      "outputs": [
        {
          "output_type": "stream",
          "name": "stdout",
          "text": [
            "Masukkan nama Anda: Nanda\n",
            "Masukkan jenis kelamin Anda (pria/wanita): pria\n",
            "Halo bro, Nanda!\n"
          ]
        }
      ],
      "source": [
        "\n",
        "# Meminta user untuk memasukkan nama\n",
        "nama = input(\"Masukkan nama Anda: \")\n",
        "\n",
        "# Meminta user untuk memasukkan jenis kelamin\n",
        "kelamin = input(\"Masukkan jenis kelamin Anda (pria/wanita): \").lower()\n",
        "\n",
        "# Mengecek jenis kelamin dan mencetak pesan yang sesuai\n",
        "if kelamin == \"pria\":\n",
        "    print(f\"Halo bro, {nama}!\")\n",
        "elif kelamin == \"wanita\":\n",
        "    print(f\"Halo sis, {nama}!\")\n",
        "else:\n",
        "    print(\"Jenis kelamin yang dimasukkan tidak valid.\")"
      ]
    },
    {
      "cell_type": "code",
      "source": [
        "# Program untuk menentukan kategori usia berdasarkan input dari user\n",
        "\n",
        "# Meminta input usia dari pengguna\n",
        "usia = int(input(\"Masukkan usia Anda: \"))\n",
        "\n",
        "# Menentukan kategori usia menggunakan if-elif-else\n",
        "if usia < 13:\n",
        "    print(\"Anda adalah seorang Anak-anak.\")\n",
        "elif 13 <= usia <= 18:\n",
        "    print(\"Anda adalah seorang Remaja.\")\n",
        "elif 19 <= usia <= 64:\n",
        "    print(\"Anda adalah seorang Dewasa.\")\n",
        "else:\n",
        "    print(\"Anda adalah seorang Lansia.\")"
      ],
      "metadata": {
        "colab": {
          "base_uri": "https://localhost:8080/"
        },
        "id": "-2xdl9eBw6Fz",
        "outputId": "09612f57-308c-458b-a27a-8e2915ab5916"
      },
      "execution_count": null,
      "outputs": [
        {
          "output_type": "stream",
          "name": "stdout",
          "text": [
            "Masukkan usia Anda: 18\n",
            "Anda adalah seorang Remaja.\n"
          ]
        }
      ]
    },
    {
      "cell_type": "code",
      "source": [
        "\n",
        "# Program untuk menghitung total belanja\n",
        "\n",
        "# Meminta input jumlah barang yang dibeli\n",
        "jumlah_barang = int(input(\"Masukkan jumlah barang yang dibeli: \"))\n",
        "\n",
        "# Inisialisasi variabel total belanja\n",
        "total_belanja = 0\n",
        "\n",
        "# Loop untuk meminta input harga dan jumlah barang untuk setiap barang\n",
        "for i in range(jumlah_barang):\n",
        "    print(f\"\\nBarang ke-{i+1}:\")\n",
        "    harga_satuan = float(input(\"Masukkan harga satuan barang: \"))\n",
        "    jumlah_unit = int(input(\"Masukkan jumlah unit barang: \"))\n",
        "\n",
        "    # Menghitung total harga untuk barang ini\n",
        "    total_harga_barang = harga_satuan * jumlah_unit\n",
        "\n",
        "    # Menambahkan total harga barang ke total belanja\n",
        "    total_belanja += total_harga_barang\n",
        "\n",
        "# Menampilkan total belanja\n",
        "print(f\"\\nTotal belanja anda adalah: Rp {total_belanja:.2f}\")"
      ],
      "metadata": {
        "colab": {
          "base_uri": "https://localhost:8080/"
        },
        "id": "eZC3ER6N1AZS",
        "outputId": "0da8d8f1-2897-4ce4-8659-cb560562ba2b"
      },
      "execution_count": null,
      "outputs": [
        {
          "output_type": "stream",
          "name": "stdout",
          "text": [
            "Masukkan jumlah barang yang dibeli: 2\n",
            "\n",
            "Barang ke-1:\n",
            "Masukkan harga satuan barang: 5000\n",
            "Masukkan jumlah unit barang: 2\n",
            "\n",
            "Barang ke-2:\n",
            "Masukkan harga satuan barang: 7000\n",
            "Masukkan jumlah unit barang: 7\n",
            "\n",
            "Total belanja anda adalah: Rp 59000.00\n"
          ]
        }
      ]
    }
  ]
}