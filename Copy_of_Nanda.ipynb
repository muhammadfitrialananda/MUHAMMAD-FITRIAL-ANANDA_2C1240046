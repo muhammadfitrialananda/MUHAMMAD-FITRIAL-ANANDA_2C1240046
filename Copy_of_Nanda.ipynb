{
  "nbformat": 4,
  "nbformat_minor": 0,
  "metadata": {
    "colab": {
      "provenance": [],
      "authorship_tag": "ABX9TyPozM6CH7/vzFKzsWEeWL7t",
      "include_colab_link": true
    },
    "kernelspec": {
      "name": "python3",
      "display_name": "Python 3"
    },
    "language_info": {
      "name": "python"
    }
  },
  "cells": [
    {
      "cell_type": "markdown",
      "metadata": {
        "id": "view-in-github",
        "colab_type": "text"
      },
      "source": [
        "<a href=\"https://colab.research.google.com/github/muhammadfitrialananda/MUHAMMAD-FITRIAL-ANANDA_2C1240046/blob/main/Copy_of_Nanda.ipynb\" target=\"_parent\"><img src=\"https://colab.research.google.com/assets/colab-badge.svg\" alt=\"Open In Colab\"/></a>"
      ]
    },
    {
      "cell_type": "code",
      "execution_count": null,
      "metadata": {
        "colab": {
          "base_uri": "https://localhost:8080/"
        },
        "id": "97EJ2mfWJajm",
        "outputId": "6eac46a8-f096-456e-dbd5-11d8d87c6217"
      },
      "outputs": [
        {
          "output_type": "stream",
          "name": "stdout",
          "text": [
            "Hello, World\n"
          ]
        }
      ],
      "source": [
        "# Program HelloWorld\n",
        "# Mencetak Hello, World! ke layar\n",
        "\n",
        "# KAMUS\n",
        "# belum di perlukan\n",
        "\n",
        "# ALGORITMA\n",
        "print(\"Hello, World\")"
      ]
    }
  ]
}