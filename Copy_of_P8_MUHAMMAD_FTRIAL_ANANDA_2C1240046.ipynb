{
  "nbformat": 4,
  "nbformat_minor": 0,
  "metadata": {
    "colab": {
      "provenance": [],
      "authorship_tag": "ABX9TyPKhpZx5dejYK/fH1ebWNy4",
      "include_colab_link": true
    },
    "kernelspec": {
      "name": "python3",
      "display_name": "Python 3"
    },
    "language_info": {
      "name": "python"
    }
  },
  "cells": [
    {
      "cell_type": "markdown",
      "metadata": {
        "id": "view-in-github",
        "colab_type": "text"
      },
      "source": [
        "<a href=\"https://colab.research.google.com/github/muhammadfitrialananda/MUHAMMAD-FITRIAL-ANANDA_2C1240046/blob/main/Copy_of_P8_MUHAMMAD_FTRIAL_ANANDA_2C1240046.ipynb\" target=\"_parent\"><img src=\"https://colab.research.google.com/assets/colab-badge.svg\" alt=\"Open In Colab\"/></a>"
      ]
    },
    {
      "cell_type": "code",
      "execution_count": null,
      "metadata": {
        "colab": {
          "base_uri": "https://localhost:8080/"
        },
        "id": "8HCRFmaRMd67",
        "outputId": "47523dd3-e27c-466a-8e83-cda4f2d96348"
      },
      "outputs": [
        {
          "output_type": "stream",
          "name": "stdout",
          "text": [
            "Masukkan nilai D: 2\n",
            "Array setelah dikalikan dengan D: [8, 2, -2, 20, 0, 24]\n"
          ]
        }
      ],
      "source": [
        "#Soal 1 dengan bu sevinurafni\n",
        "S = [4, 1, -1, 10, 0, 12]\n",
        "\n",
        "D = int(input(\"Masukkan nilai D: \"))\n",
        "\n",
        "S = [x * D for x in S]\n",
        "\n",
        "print(\"Array setelah dikalikan dengan D:\", S)"
      ]
    },
    {
      "cell_type": "code",
      "source": [
        "# Soal 2 dengan bu Sevinurafni\n",
        "T1 = [9, 12, 30, -1, 0, 4, -1, 3, 30, 14]\n",
        "nilai_terbesarT1 = max(T1)\n",
        "print (\"nilai terbesar dari T1 adalah\", nilai_terbesarT1)\n",
        "\n",
        "nilai_terkecilT1 = min(T1)\n",
        "print (\"nilai terkecil dari T1 adalah\", nilai_terkecilT1)\n",
        "\n",
        "T2 = [1, 3, 5, 8, -12, 90, 3, 5]\n",
        "nilai_terbesarT2 = max(T2)\n",
        "print (\"nilai terbesar dari T2 adalah\", nilai_terbesarT2)\n",
        "\n",
        "nilai_terkecilT2 = min(T2)\n",
        "print (\"nilai terkecil dari T2 adalah\", nilai_terkecilT2)"
      ],
      "metadata": {
        "colab": {
          "base_uri": "https://localhost:8080/"
        },
        "id": "93ad08l1M2vL",
        "outputId": "ea659231-c67a-4716-fb53-cb3a5937ee75"
      },
      "execution_count": null,
      "outputs": [
        {
          "output_type": "stream",
          "name": "stdout",
          "text": [
            "nilai terbesar dari T1 adalah 30\n",
            "nilai terkecil dari T1 adalah -1\n",
            "nilai terbesar dari T2 adalah 90\n",
            "nilai terkecil dari T2 adalah -12\n"
          ]
        }
      ]
    },
    {
      "cell_type": "markdown",
      "source": [
        "FUNDAMENTAL ARRAY"
      ],
      "metadata": {
        "id": "w6kTaQrTa9Mh"
      }
    },
    {
      "cell_type": "code",
      "source": [
        "arr = [10, 20, 30, 40]\n",
        "arr\n"
      ],
      "metadata": {
        "colab": {
          "base_uri": "https://localhost:8080/"
        },
        "id": "w4UasuFmYHBi",
        "outputId": "d45b7caf-3cb8-4ed2-9f10-40c038f253c6"
      },
      "execution_count": null,
      "outputs": [
        {
          "output_type": "execute_result",
          "data": {
            "text/plain": [
              "[10, 20, 30, 40]"
            ]
          },
          "metadata": {},
          "execution_count": 3
        }
      ]
    },
    {
      "cell_type": "code",
      "source": [
        "list_numbers = [1, 2, 3, 4, 5]\n",
        "list_numbers"
      ],
      "metadata": {
        "colab": {
          "base_uri": "https://localhost:8080/"
        },
        "id": "QUjCGNnaY5mS",
        "outputId": "57fa76e6-64d7-40b8-b028-a525d19aaf8a"
      },
      "execution_count": null,
      "outputs": [
        {
          "output_type": "execute_result",
          "data": {
            "text/plain": [
              "[1, 2, 3, 4, 5]"
            ]
          },
          "metadata": {},
          "execution_count": 4
        }
      ]
    },
    {
      "cell_type": "code",
      "source": [
        "list_numbers[0] = 100  # Mengubah elemen pertama menjadi 100\n",
        "list_numbers"
      ],
      "metadata": {
        "colab": {
          "base_uri": "https://localhost:8080/"
        },
        "id": "JhaCWnkIZAA5",
        "outputId": "3cfcbb3f-acbc-43f6-a90c-065b9c493848"
      },
      "execution_count": null,
      "outputs": [
        {
          "output_type": "execute_result",
          "data": {
            "text/plain": [
              "[100, 2, 3, 4, 5]"
            ]
          },
          "metadata": {},
          "execution_count": 5
        }
      ]
    },
    {
      "cell_type": "markdown",
      "source": [
        "MENDEKLARASIKAN ARRAY\n",
        "\n"
      ],
      "metadata": {
        "id": "2gnhClTfZHlx"
      }
    },
    {
      "cell_type": "code",
      "source": [
        "arr = [1, 2, 3, 4, 5]\n",
        "arr"
      ],
      "metadata": {
        "colab": {
          "base_uri": "https://localhost:8080/"
        },
        "id": "t-nSyAEAZJJZ",
        "outputId": "32e27ae7-e9ce-4913-ef60-3bbd97d27a0a"
      },
      "execution_count": null,
      "outputs": [
        {
          "output_type": "execute_result",
          "data": {
            "text/plain": [
              "[1, 2, 3, 4, 5]"
            ]
          },
          "metadata": {},
          "execution_count": 6
        }
      ]
    },
    {
      "cell_type": "code",
      "source": [
        "data = [1, 2, 3, 'hello', 5.5]  # array dengan elemen tipe berbeda\n",
        "data"
      ],
      "metadata": {
        "colab": {
          "base_uri": "https://localhost:8080/"
        },
        "id": "KQ1X2vMwZTzh",
        "outputId": "0cdd936b-e941-4114-acfc-79683c572646"
      },
      "execution_count": null,
      "outputs": [
        {
          "output_type": "execute_result",
          "data": {
            "text/plain": [
              "[1, 2, 3, 'hello', 5.5]"
            ]
          },
          "metadata": {},
          "execution_count": 7
        }
      ]
    },
    {
      "cell_type": "code",
      "source": [
        "arr = [0] * 5  # Membuat array dengan 5 elemen, semua berisi 0\n",
        "arr"
      ],
      "metadata": {
        "colab": {
          "base_uri": "https://localhost:8080/"
        },
        "id": "4e7S12NNZYkR",
        "outputId": "e5aa8bb6-6c5d-4b41-e303-ac61a31f041a"
      },
      "execution_count": null,
      "outputs": [
        {
          "output_type": "execute_result",
          "data": {
            "text/plain": [
              "[0, 0, 0, 0, 0]"
            ]
          },
          "metadata": {},
          "execution_count": 8
        }
      ]
    },
    {
      "cell_type": "code",
      "source": [
        "arr = [10, 20, 30, 40]\n",
        "print(arr[0])  # Output: 10 (indeks pertama)\n",
        "print(arr[3])  # Output: 40 (indeks terakhir)"
      ],
      "metadata": {
        "colab": {
          "base_uri": "https://localhost:8080/"
        },
        "id": "ZxO2NvVTZfWh",
        "outputId": "75b718e0-d148-4521-d43a-1e5c308c5558"
      },
      "execution_count": null,
      "outputs": [
        {
          "output_type": "stream",
          "name": "stdout",
          "text": [
            "10\n",
            "40\n"
          ]
        }
      ]
    },
    {
      "cell_type": "markdown",
      "source": [
        "PEMROSESAN SEKUENSIAL ARRAY"
      ],
      "metadata": {
        "id": "1tE5pysvZjiy"
      }
    },
    {
      "cell_type": "code",
      "source": [
        "arr = [10, 20, 30, 40, 50]\n",
        "for elemen in arr:\n",
        "    print(elemen)\n"
      ],
      "metadata": {
        "colab": {
          "base_uri": "https://localhost:8080/"
        },
        "id": "t6oU1U8YZkZ5",
        "outputId": "b2c47ae7-defd-46b2-82d4-cdf61e4f57ad"
      },
      "execution_count": null,
      "outputs": [
        {
          "output_type": "stream",
          "name": "stdout",
          "text": [
            "10\n",
            "20\n",
            "30\n",
            "40\n",
            "50\n"
          ]
        }
      ]
    },
    {
      "cell_type": "code",
      "source": [
        "total = 0\n",
        "for elemen in arr:\n",
        "    total += elemen\n",
        "print(total)  # Output: 150\n"
      ],
      "metadata": {
        "colab": {
          "base_uri": "https://localhost:8080/"
        },
        "id": "79B1aFusZ00x",
        "outputId": "3cbe97d7-8366-4832-f8df-2c0a251237e1"
      },
      "execution_count": null,
      "outputs": [
        {
          "output_type": "stream",
          "name": "stdout",
          "text": [
            "150\n"
          ]
        }
      ]
    },
    {
      "cell_type": "code",
      "source": [
        "total = 0\n",
        "for elemen in arr:\n",
        "    total += elemen\n",
        "print(total)  # Output: 150\n"
      ],
      "metadata": {
        "colab": {
          "base_uri": "https://localhost:8080/"
        },
        "id": "zU6mrTdXaexp",
        "outputId": "ffce1942-55fc-4d6d-a4d0-2891be913276"
      },
      "execution_count": null,
      "outputs": [
        {
          "output_type": "stream",
          "name": "stdout",
          "text": [
            "150\n"
          ]
        }
      ]
    },
    {
      "cell_type": "code",
      "source": [
        "arr = [9, 3, 4, 8, 15, 7, 20, 23, 27, 8, 10, 30, 5, 29]\n",
        "\n",
        "nilai_maks = max(arr)\n",
        "print(nilai_maks)\n",
        "print(\"jadi rata rata nilai maksimum arr adalah\" , nilai_maks)\n",
        "\n",
        "nilai_min = min(arr)\n",
        "print(nilai_min)\n",
        "print(\"jadi nilai minimum arr adalah\" , nilai_min)\n",
        "\n",
        "penjumlahan = sum(arr)\n",
        "print(penjumlahan)\n",
        "print(\"hasil penjumlahan seluruh elemen arr adalah\", penjumlahan)\n",
        "\n",
        "jumlah_arr = len(arr)\n",
        "print(jumlah_arr)\n",
        "print(\"jadi jumlah seluruh elemen arr adalah\" , jumlah_arr)\n",
        "\n",
        "rata_rata = sum(arr)/len(arr)\n",
        "print(rata_rata)\n",
        "print(\"jadi rata-rata seluruh elemen arr adalah\", rata_rata)\n"
      ],
      "metadata": {
        "colab": {
          "base_uri": "https://localhost:8080/"
        },
        "id": "TB1g6I9mdC5x",
        "outputId": "b7e7cacf-5edb-4e52-d8ee-259049f13243"
      },
      "execution_count": null,
      "outputs": [
        {
          "output_type": "stream",
          "name": "stdout",
          "text": [
            "30\n",
            "jadi rata rata nilai maksimum arr adalah 30\n",
            "3\n",
            "jadi nilai minimum arr adalah 3\n",
            "198\n",
            "hasil penjumlahan seluruh elemen arr adalah 198\n",
            "14\n",
            "jadi jumlah seluruh elemen arr adalah 14\n",
            "14.142857142857142\n",
            "jadi rata-rata seluruh elemen arr adalah 14.142857142857142\n"
          ]
        }
      ]
    }
  ]
}