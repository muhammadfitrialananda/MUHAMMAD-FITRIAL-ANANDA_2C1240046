{
  "nbformat": 4,
  "nbformat_minor": 0,
  "metadata": {
    "colab": {
      "provenance": [],
      "authorship_tag": "ABX9TyPRgf7SUUB/AULBA3301ZGJ",
      "include_colab_link": true
    },
    "kernelspec": {
      "name": "python3",
      "display_name": "Python 3"
    },
    "language_info": {
      "name": "python"
    }
  },
  "cells": [
    {
      "cell_type": "markdown",
      "metadata": {
        "id": "view-in-github",
        "colab_type": "text"
      },
      "source": [
        "<a href=\"https://colab.research.google.com/github/muhammadfitrialananda/MUHAMMAD-FITRIAL-ANANDA_2C1240046/blob/main/Copy_of_P8_MUHAMMAD_FTRIAL_ANANDA_2C1240046.ipynb\" target=\"_parent\"><img src=\"https://colab.research.google.com/assets/colab-badge.svg\" alt=\"Open In Colab\"/></a>"
      ]
    },
    {
      "cell_type": "code",
      "execution_count": null,
      "metadata": {
        "colab": {
          "base_uri": "https://localhost:8080/"
        },
        "id": "8HCRFmaRMd67",
        "outputId": "47523dd3-e27c-466a-8e83-cda4f2d96348"
      },
      "outputs": [
        {
          "output_type": "stream",
          "name": "stdout",
          "text": [
            "Masukkan nilai D: 2\n",
            "Array setelah dikalikan dengan D: [8, 2, -2, 20, 0, 24]\n"
          ]
        }
      ],
      "source": [
        "#Soal 1 dengan bu sevinurafni\n",
        "S = [4, 1, -1, 10, 0, 12]\n",
        "\n",
        "D = int(input(\"Masukkan nilai D: \"))\n",
        "\n",
        "S = [x * D for x in S]\n",
        "\n",
        "print(\"Array setelah dikalikan dengan D:\", S)"
      ]
    },
    {
      "cell_type": "code",
      "source": [
        "# Soal 2 dengan bu Sevinurafni\n",
        "T1 = [9, 12, 30, -1, 0, 4, -1, 3, 30, 14]\n",
        "nilai_terbesarT1 = max(T1)\n",
        "print (\"nilai terbesar dari T1 adalah\", nilai_terbesarT1)\n",
        "\n",
        "nilai_terkecilT1 = min(T1)\n",
        "print (\"nilai terkecil dari T1 adalah\", nilai_terkecilT1)\n",
        "\n",
        "T2 = [1, 3, 5, 8, -12, 90, 3, 5]\n",
        "nilai_terbesarT2 = max(T2)\n",
        "print (\"nilai terbesar dari T2 adalah\", nilai_terbesarT2)\n",
        "\n",
        "nilai_terkecilT2 = min(T2)\n",
        "print (\"nilai terkecil dari T2 adalah\", nilai_terkecilT2)"
      ],
      "metadata": {
        "colab": {
          "base_uri": "https://localhost:8080/"
        },
        "id": "93ad08l1M2vL",
        "outputId": "ea659231-c67a-4716-fb53-cb3a5937ee75"
      },
      "execution_count": null,
      "outputs": [
        {
          "output_type": "stream",
          "name": "stdout",
          "text": [
            "nilai terbesar dari T1 adalah 30\n",
            "nilai terkecil dari T1 adalah -1\n",
            "nilai terbesar dari T2 adalah 90\n",
            "nilai terkecil dari T2 adalah -12\n"
          ]
        }
      ]
    }
  ]
}