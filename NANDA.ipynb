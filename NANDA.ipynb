{
  "nbformat": 4,
  "nbformat_minor": 0,
  "metadata": {
    "colab": {
      "provenance": [],
      "authorship_tag": "ABX9TyO8XRMOUwnYiEYt+TB0bsys",
      "include_colab_link": true
    },
    "kernelspec": {
      "name": "python3",
      "display_name": "Python 3"
    },
    "language_info": {
      "name": "python"
    }
  },
  "cells": [
    {
      "cell_type": "markdown",
      "metadata": {
        "id": "view-in-github",
        "colab_type": "text"
      },
      "source": [
        "<a href=\"https://colab.research.google.com/github/muhammadfitrialananda/MUHAMMAD-FITRIAL-ANANDA_2C1240046/blob/main/NANDA.ipynb\" target=\"_parent\"><img src=\"https://colab.research.google.com/assets/colab-badge.svg\" alt=\"Open In Colab\"/></a>"
      ]
    },
    {
      "cell_type": "code",
      "execution_count": null,
      "metadata": {
        "colab": {
          "base_uri": "https://localhost:8080/"
        },
        "id": "7-FfU684RfjW",
        "outputId": "ada8b901-52d3-42a7-c4b9-4dfa1b6279b4"
      },
      "outputs": [
        {
          "output_type": "stream",
          "name": "stdout",
          "text": [
            "jumlah kelipatan 5 antara 1 s.d,100 adalah 1050\n"
          ]
        }
      ],
      "source": [
        "#tugas 2\n",
        "sum = 0\n",
        "i = 5\n",
        "while i<=100:\n",
        "  sum +=i\n",
        "  i+=5\n",
        "print(\"jumlah kelipatan 5 antara 1 s.d,100 adalah\",sum)"
      ]
    },
    {
      "cell_type": "code",
      "source": [
        "#tugas 3\n",
        "N=int(input(\"masukan nilai N: \"))\n",
        "Jumlah=0\n",
        "for i in range(5,N+1,5):\n",
        "  Jumlah += i\n",
        "print(\"jumlah kelipatan 5 antara 1 s.'d\",N,\"adalah\",Jumlah)"
      ],
      "metadata": {
        "colab": {
          "base_uri": "https://localhost:8080/"
        },
        "id": "yZN61evDS6sY",
        "outputId": "d2281b34-b506-47d8-95b9-e8544c9a86c1"
      },
      "execution_count": null,
      "outputs": [
        {
          "output_type": "stream",
          "name": "stdout",
          "text": [
            "masukan nilai N: 23\n",
            "jumlah kelipatan 5 antara 1 s.'d 23 adalah 50\n"
          ]
        }
      ]
    },
    {
      "cell_type": "code",
      "source": [],
      "metadata": {
        "id": "cHyRx804UnCx"
      },
      "execution_count": null,
      "outputs": []
    }
  ]
}