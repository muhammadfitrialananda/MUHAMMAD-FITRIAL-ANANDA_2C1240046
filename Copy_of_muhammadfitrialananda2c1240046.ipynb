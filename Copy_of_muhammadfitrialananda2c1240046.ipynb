{
  "nbformat": 4,
  "nbformat_minor": 0,
  "metadata": {
    "colab": {
      "provenance": [],
      "authorship_tag": "ABX9TyPZgzkifqRuuYvLgxSP59BW",
      "include_colab_link": true
    },
    "kernelspec": {
      "name": "python3",
      "display_name": "Python 3"
    },
    "language_info": {
      "name": "python"
    }
  },
  "cells": [
    {
      "cell_type": "markdown",
      "metadata": {
        "id": "view-in-github",
        "colab_type": "text"
      },
      "source": [
        "<a href=\"https://colab.research.google.com/github/muhammadfitrialananda/MUHAMMAD-FITRIAL-ANANDA_2C1240046/blob/main/Copy_of_muhammadfitrialananda2c1240046.ipynb\" target=\"_parent\"><img src=\"https://colab.research.google.com/assets/colab-badge.svg\" alt=\"Open In Colab\"/></a>"
      ]
    },
    {
      "cell_type": "code",
      "execution_count": null,
      "metadata": {
        "colab": {
          "base_uri": "https://localhost:8080/"
        },
        "id": "5ARyUydmMsU3",
        "outputId": "2da0ae4d-2942-4384-e5c8-f2a52de647ff"
      },
      "outputs": [
        {
          "output_type": "stream",
          "name": "stdout",
          "text": [
            "halo, nanda! selamat belajar pyhton\n"
          ]
        }
      ],
      "source": [
        "# soal 1\n",
        "nama = \"nanda\"\n",
        "pesan = \"selamat belajar pyhton\"\n",
        "\n",
        "print(f\"halo, {nama}! {pesan}\")"
      ]
    },
    {
      "cell_type": "code",
      "source": [
        "# soal 2\n",
        "panjang = int(input(\"masukkan panjang :\"))\n",
        "lebar = int(input(\"masukkan lebar :\"))\n",
        "luas = panjang * lebar\n",
        "print(\"Luas persegi panjang adalah:\", luas)"
      ],
      "metadata": {
        "colab": {
          "base_uri": "https://localhost:8080/"
        },
        "id": "6wW3bdwIObj5",
        "outputId": "3f51153a-7839-447c-f164-36aa7f59fb9a"
      },
      "execution_count": null,
      "outputs": [
        {
          "output_type": "stream",
          "name": "stdout",
          "text": [
            "masukkan panjang :5\n",
            "masukkan lebar :4\n",
            "Luas persegi panjang adalah: 20\n"
          ]
        }
      ]
    },
    {
      "cell_type": "code",
      "source": [
        "# soal 3\n",
        "bilangan = int(input(\"Masukkan bilangan bulat: \"))\n",
        "if bilangan % 2 == 0:\n",
        "    print(f\"{bilangan} adalah bilangan genap.\")\n",
        "else:\n",
        "    print(f\"{bilangan} adalah bilangan ganjil.\")"
      ],
      "metadata": {
        "colab": {
          "base_uri": "https://localhost:8080/"
        },
        "id": "T2zLamDzPpPw",
        "outputId": "f673992c-f0be-4de9-9cae-8041d9c84665"
      },
      "execution_count": null,
      "outputs": [
        {
          "output_type": "stream",
          "name": "stdout",
          "text": [
            "Masukkan bilangan bulat: 7\n",
            "7 adalah bilangan ganjil.\n"
          ]
        }
      ]
    },
    {
      "cell_type": "code",
      "source": [
        "# soal 4\n",
        "for i in range(1, 21):\n",
        "    print(i, end=\" \")\n"
      ],
      "metadata": {
        "colab": {
          "base_uri": "https://localhost:8080/"
        },
        "id": "Q1Xr9U4NUiDi",
        "outputId": "f03c1dd5-e64f-47c7-ea9c-8aa50e537551"
      },
      "execution_count": null,
      "outputs": [
        {
          "output_type": "stream",
          "name": "stdout",
          "text": [
            "1 2 3 4 5 6 7 8 9 10 11 12 13 14 15 16 17 18 19 20 "
          ]
        }
      ]
    },
    {
      "cell_type": "code",
      "source": [
        "# soal 5\n",
        "a = int(input(\"Masukkan bilangan pertama (a): \"))\n",
        "b = int(input(\"Masukkan bilangan kedua (b): \"))\n",
        "jumlah = 0\n",
        "for i in range (a, b + 1):\n",
        "  jumlah+= i\n",
        "print(f\"Jumlah bilangan antara {a} dan {b} adalah {jumlah}\")\n"
      ],
      "metadata": {
        "colab": {
          "base_uri": "https://localhost:8080/"
        },
        "id": "3rvE5SxHV1w5",
        "outputId": "4e9e964b-cc91-4e84-90fe-8f1571f7ba49"
      },
      "execution_count": null,
      "outputs": [
        {
          "output_type": "stream",
          "name": "stdout",
          "text": [
            "Masukkan bilangan pertama (a): 3\n",
            "Masukkan bilangan kedua (b): 7\n",
            "Jumlah bilangan antara 3 dan 7 adalah 25\n"
          ]
        }
      ]
    },
    {
      "cell_type": "code",
      "source": [
        "# soal 6\n",
        "a = int(input(\"Masukkan bilangan bulat pertama (a): \"))\n",
        "b = int(input(\"Masukkan bilangan bulat kedua (b): \"))\n",
        "for i in range(a, b + 1):\n",
        "    if i % 2 == 0:\n",
        "        print(i)\n"
      ],
      "metadata": {
        "colab": {
          "base_uri": "https://localhost:8080/"
        },
        "id": "PhoOYu1eZwxg",
        "outputId": "9198053e-2ab3-416a-b0c8-092d47b353b4"
      },
      "execution_count": null,
      "outputs": [
        {
          "output_type": "stream",
          "name": "stdout",
          "text": [
            "Masukkan bilangan bulat pertama (a): 3\n",
            "Masukkan bilangan bulat kedua (b): 10\n",
            "4\n",
            "6\n",
            "8\n",
            "10\n"
          ]
        }
      ]
    },
    {
      "cell_type": "code",
      "source": [
        "# soal 7\n",
        "array = [5, 2, 8, 1,]\n",
        "for i in range(len(array)):\n",
        "    print(array[i], end=' ')"
      ],
      "metadata": {
        "colab": {
          "base_uri": "https://localhost:8080/"
        },
        "id": "sZp1lX6lfR2J",
        "outputId": "39fe4f3c-e719-4510-eba3-c7dae5428984"
      },
      "execution_count": null,
      "outputs": [
        {
          "output_type": "stream",
          "name": "stdout",
          "text": [
            "5 2 8 1 "
          ]
        }
      ]
    },
    {
      "cell_type": "code",
      "source": [
        "# soal 8\n",
        "bilangan = int(input(\"Masukkan bilangan bulat: \"))\n",
        "if bilangan <= 1:\n",
        "    print(f\"{bilangan} bukan bilangan prima.\")\n",
        "else:\n",
        "    for i in range(2, bilangan):\n",
        "        if bilangan % i == 0:\n",
        "            print(f\"{bilangan} bukan bilangan prima.\")\n",
        "            break\n",
        "    else:\n",
        "        print(f\"{bilangan} adalah bilangan prima.\")"
      ],
      "metadata": {
        "colab": {
          "base_uri": "https://localhost:8080/"
        },
        "id": "oP7GplrIh7ho",
        "outputId": "56fd22b5-604b-4f8d-815c-cdfded6d3660"
      },
      "execution_count": null,
      "outputs": [
        {
          "output_type": "stream",
          "name": "stdout",
          "text": [
            "Masukkan bilangan bulat: 13\n",
            "13 adalah bilangan prima.\n"
          ]
        }
      ]
    }
  ]
}